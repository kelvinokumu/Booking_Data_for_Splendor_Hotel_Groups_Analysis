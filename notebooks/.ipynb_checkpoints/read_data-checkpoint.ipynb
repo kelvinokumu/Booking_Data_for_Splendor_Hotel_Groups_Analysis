{
 "cells": [
  {
   "cell_type": "code",
   "execution_count": 1,
   "id": "777d8a3e-e527-40da-97f3-7f711da40f3c",
   "metadata": {
    "tags": []
   },
   "outputs": [],
   "source": [
    "import pandas as pd"
   ]
  },
  {
   "cell_type": "code",
   "execution_count": 4,
   "id": "294fc241-3ccf-4acb-a9c3-5a1d21c318f8",
   "metadata": {
    "tags": []
   },
   "outputs": [],
   "source": [
    "file_path = '/home/dcti-02-11/projects/sql_data/Booking_Data_for_Splendor_Hotel_Groups_Analysis/dataraw/SHG_Booking_Data.xlsx'\n",
    "\n",
    "df = pd.read_excel(file_path)"
   ]
  },
  {
   "cell_type": "code",
   "execution_count": 5,
   "id": "07646535-48a2-4d2d-b7e8-f66bfcde547c",
   "metadata": {
    "tags": []
   },
   "outputs": [
    {
     "data": {
      "text/html": [
       "<div>\n",
       "<style scoped>\n",
       "    .dataframe tbody tr th:only-of-type {\n",
       "        vertical-align: middle;\n",
       "    }\n",
       "\n",
       "    .dataframe tbody tr th {\n",
       "        vertical-align: top;\n",
       "    }\n",
       "\n",
       "    .dataframe thead th {\n",
       "        text-align: right;\n",
       "    }\n",
       "</style>\n",
       "<table border=\"1\" class=\"dataframe\">\n",
       "  <thead>\n",
       "    <tr style=\"text-align: right;\">\n",
       "      <th></th>\n",
       "      <th>Booking ID</th>\n",
       "      <th>Hotel</th>\n",
       "      <th>Booking Date</th>\n",
       "      <th>Arrival Date</th>\n",
       "      <th>Lead Time</th>\n",
       "      <th>Nights</th>\n",
       "      <th>Guests</th>\n",
       "      <th>Distribution Channel</th>\n",
       "      <th>Customer Type</th>\n",
       "      <th>Country</th>\n",
       "      <th>Deposit Type</th>\n",
       "      <th>Avg Daily Rate</th>\n",
       "      <th>Status</th>\n",
       "      <th>Status Update</th>\n",
       "      <th>Cancelled (0/1)</th>\n",
       "      <th>Revenue</th>\n",
       "      <th>Revenue Loss</th>\n",
       "    </tr>\n",
       "  </thead>\n",
       "  <tbody>\n",
       "    <tr>\n",
       "      <th>0</th>\n",
       "      <td>1</td>\n",
       "      <td>Resort</td>\n",
       "      <td>2014-07-24</td>\n",
       "      <td>2015-07-01</td>\n",
       "      <td>342</td>\n",
       "      <td>0</td>\n",
       "      <td>2</td>\n",
       "      <td>Direct</td>\n",
       "      <td>Transient</td>\n",
       "      <td>Portugal</td>\n",
       "      <td>No Deposit</td>\n",
       "      <td>0.0</td>\n",
       "      <td>Check-Out</td>\n",
       "      <td>2015-07-01</td>\n",
       "      <td>0</td>\n",
       "      <td>0.0</td>\n",
       "      <td>0.0</td>\n",
       "    </tr>\n",
       "    <tr>\n",
       "      <th>1</th>\n",
       "      <td>2</td>\n",
       "      <td>Resort</td>\n",
       "      <td>2013-06-24</td>\n",
       "      <td>2015-07-01</td>\n",
       "      <td>737</td>\n",
       "      <td>0</td>\n",
       "      <td>2</td>\n",
       "      <td>Direct</td>\n",
       "      <td>Transient</td>\n",
       "      <td>Portugal</td>\n",
       "      <td>No Deposit</td>\n",
       "      <td>0.0</td>\n",
       "      <td>Check-Out</td>\n",
       "      <td>2015-07-01</td>\n",
       "      <td>0</td>\n",
       "      <td>0.0</td>\n",
       "      <td>0.0</td>\n",
       "    </tr>\n",
       "    <tr>\n",
       "      <th>2</th>\n",
       "      <td>3</td>\n",
       "      <td>Resort</td>\n",
       "      <td>2015-06-24</td>\n",
       "      <td>2015-07-01</td>\n",
       "      <td>7</td>\n",
       "      <td>1</td>\n",
       "      <td>1</td>\n",
       "      <td>Direct</td>\n",
       "      <td>Transient</td>\n",
       "      <td>United Kingdom</td>\n",
       "      <td>No Deposit</td>\n",
       "      <td>75.0</td>\n",
       "      <td>Check-Out</td>\n",
       "      <td>2015-07-02</td>\n",
       "      <td>0</td>\n",
       "      <td>75.0</td>\n",
       "      <td>0.0</td>\n",
       "    </tr>\n",
       "    <tr>\n",
       "      <th>3</th>\n",
       "      <td>4</td>\n",
       "      <td>Resort</td>\n",
       "      <td>2015-06-18</td>\n",
       "      <td>2015-07-01</td>\n",
       "      <td>13</td>\n",
       "      <td>1</td>\n",
       "      <td>1</td>\n",
       "      <td>Corporate</td>\n",
       "      <td>Transient</td>\n",
       "      <td>United Kingdom</td>\n",
       "      <td>No Deposit</td>\n",
       "      <td>75.0</td>\n",
       "      <td>Check-Out</td>\n",
       "      <td>2015-07-02</td>\n",
       "      <td>0</td>\n",
       "      <td>75.0</td>\n",
       "      <td>0.0</td>\n",
       "    </tr>\n",
       "    <tr>\n",
       "      <th>4</th>\n",
       "      <td>5</td>\n",
       "      <td>Resort</td>\n",
       "      <td>2015-06-17</td>\n",
       "      <td>2015-07-01</td>\n",
       "      <td>14</td>\n",
       "      <td>2</td>\n",
       "      <td>2</td>\n",
       "      <td>Online Travel Agent</td>\n",
       "      <td>Transient</td>\n",
       "      <td>United Kingdom</td>\n",
       "      <td>No Deposit</td>\n",
       "      <td>98.0</td>\n",
       "      <td>Check-Out</td>\n",
       "      <td>2015-07-03</td>\n",
       "      <td>0</td>\n",
       "      <td>196.0</td>\n",
       "      <td>0.0</td>\n",
       "    </tr>\n",
       "  </tbody>\n",
       "</table>\n",
       "</div>"
      ],
      "text/plain": [
       "   Booking ID   Hotel Booking Date Arrival Date  Lead Time  Nights  Guests  \\\n",
       "0           1  Resort   2014-07-24   2015-07-01        342       0       2   \n",
       "1           2  Resort   2013-06-24   2015-07-01        737       0       2   \n",
       "2           3  Resort   2015-06-24   2015-07-01          7       1       1   \n",
       "3           4  Resort   2015-06-18   2015-07-01         13       1       1   \n",
       "4           5  Resort   2015-06-17   2015-07-01         14       2       2   \n",
       "\n",
       "  Distribution Channel Customer Type         Country Deposit Type  \\\n",
       "0               Direct     Transient        Portugal   No Deposit   \n",
       "1               Direct     Transient        Portugal   No Deposit   \n",
       "2               Direct     Transient  United Kingdom   No Deposit   \n",
       "3            Corporate     Transient  United Kingdom   No Deposit   \n",
       "4  Online Travel Agent     Transient  United Kingdom   No Deposit   \n",
       "\n",
       "   Avg Daily Rate     Status Status Update  Cancelled (0/1)  Revenue  \\\n",
       "0             0.0  Check-Out    2015-07-01                0      0.0   \n",
       "1             0.0  Check-Out    2015-07-01                0      0.0   \n",
       "2            75.0  Check-Out    2015-07-02                0     75.0   \n",
       "3            75.0  Check-Out    2015-07-02                0     75.0   \n",
       "4            98.0  Check-Out    2015-07-03                0    196.0   \n",
       "\n",
       "   Revenue Loss  \n",
       "0           0.0  \n",
       "1           0.0  \n",
       "2           0.0  \n",
       "3           0.0  \n",
       "4           0.0  "
      ]
     },
     "execution_count": 5,
     "metadata": {},
     "output_type": "execute_result"
    }
   ],
   "source": [
    "df.head()"
   ]
  },
  {
   "cell_type": "code",
   "execution_count": 6,
   "id": "efc9b377-5350-46a6-a691-622a40e6fa18",
   "metadata": {
    "tags": []
   },
   "outputs": [
    {
     "name": "stdout",
     "output_type": "stream",
     "text": [
      "<class 'pandas.core.frame.DataFrame'>\n",
      "RangeIndex: 119390 entries, 0 to 119389\n",
      "Data columns (total 17 columns):\n",
      " #   Column                Non-Null Count   Dtype         \n",
      "---  ------                --------------   -----         \n",
      " 0   Booking ID            119390 non-null  int64         \n",
      " 1   Hotel                 119390 non-null  object        \n",
      " 2   Booking Date          119390 non-null  datetime64[ns]\n",
      " 3   Arrival Date          119390 non-null  datetime64[ns]\n",
      " 4   Lead Time             119390 non-null  int64         \n",
      " 5   Nights                119390 non-null  int64         \n",
      " 6   Guests                119390 non-null  int64         \n",
      " 7   Distribution Channel  119390 non-null  object        \n",
      " 8   Customer Type         119390 non-null  object        \n",
      " 9   Country               118902 non-null  object        \n",
      " 10  Deposit Type          119390 non-null  object        \n",
      " 11  Avg Daily Rate        119390 non-null  float64       \n",
      " 12  Status                119390 non-null  object        \n",
      " 13  Status Update         119390 non-null  datetime64[ns]\n",
      " 14  Cancelled (0/1)       119390 non-null  int64         \n",
      " 15  Revenue               119390 non-null  float64       \n",
      " 16  Revenue Loss          119390 non-null  float64       \n",
      "dtypes: datetime64[ns](3), float64(3), int64(5), object(6)\n",
      "memory usage: 15.5+ MB\n"
     ]
    }
   ],
   "source": [
    "df.info()"
   ]
  },
  {
   "cell_type": "code",
   "execution_count": 7,
   "id": "a099c3a6-bd3f-4cc8-ade4-c0786a1f01ac",
   "metadata": {
    "tags": []
   },
   "outputs": [],
   "source": [
    "csv_file_path = '/home/dcti-02-11/projects/sql_data/Booking_Data_for_Splendor_Hotel_Groups_Analysis/dataderived/SHG_Booking_Data.csv'\n",
    "\n",
    "df.to_csv(csv_file_path, index=False)"
   ]
  },
  {
   "cell_type": "code",
   "execution_count": null,
   "id": "c9a0dfbe-c81f-4f9e-8f8b-47d4c9fb6c97",
   "metadata": {},
   "outputs": [],
   "source": []
  }
 ],
 "metadata": {
  "kernelspec": {
   "display_name": "Python 3 (ipykernel)",
   "language": "python",
   "name": "python3"
  },
  "language_info": {
   "codemirror_mode": {
    "name": "ipython",
    "version": 3
   },
   "file_extension": ".py",
   "mimetype": "text/x-python",
   "name": "python",
   "nbconvert_exporter": "python",
   "pygments_lexer": "ipython3",
   "version": "3.9.18"
  }
 },
 "nbformat": 4,
 "nbformat_minor": 5
}
